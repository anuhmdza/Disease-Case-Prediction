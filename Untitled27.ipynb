{
 "cells": [
  {
   "cell_type": "code",
   "execution_count": 5,
   "id": "2ae4f24e-4099-4a7e-aafb-047ace148e5d",
   "metadata": {},
   "outputs": [
    {
     "ename": "SyntaxError",
     "evalue": "invalid syntax (2559360117.py, line 15)",
     "output_type": "error",
     "traceback": [
      "\u001b[0;36m  Cell \u001b[0;32mIn[5], line 15\u001b[0;36m\u001b[0m\n\u001b[0;31m    pc1 <- eig$vectors[,1]\u001b[0m\n\u001b[0m              ^\u001b[0m\n\u001b[0;31mSyntaxError\u001b[0m\u001b[0;31m:\u001b[0m invalid syntax\n"
     ]
    }
   ],
   "source": [
    "# Input matrix\n",
    "X <- matrix(c(4, 2, 5, 1,\n",
    "              1, 3, 4, 0), ncol = 2)\n",
    "\n",
    "# Center the data\n",
    "X_centered <- scale(X, center = TRUE, scale = FALSE)\n",
    "\n",
    "# Compute covariance matrix\n",
    "cov_matrix <- cov(X_centered)\n",
    "\n",
    "# Eigen decomposition\n",
    "eig <- eigen(cov_matrix)\n",
    "\n",
    "# First principal component direction (unit vector)\n",
    "pc1 <- eig$vectors[,1]\n",
    "\n",
    "# Project data onto PC1\n",
    "projections <- X_centered %*% pc1\n",
    "projected_points <- projections %*% t(pc1)\n",
    "\n",
    "# Create data frames for plotting\n",
    "df <- as.data.frame(X_centered)\n",
    "colnames(df) <- c(\"x\", \"y\")\n",
    "df_proj <- as.data.frame(projected_points)\n",
    "colnames(df_proj) <- c(\"x\", \"y\")\n",
    "\n",
    "# Line for the first principal component\n",
    "pc_line <- data.frame(\n",
    "  x = c(-1, 1) * pc1[1] * 5,\n",
    "  y = c(-1, 1) * pc1[2] * 5\n",
    ")\n",
    "\n"
   ]
  },
  {
   "cell_type": "code",
   "execution_count": 7,
   "id": "8ac7a3cf-6071-4ff7-a4c6-5db43ce3a003",
   "metadata": {},
   "outputs": [
    {
     "ename": "SyntaxError",
     "evalue": "invalid syntax (2739289241.py, line 3)",
     "output_type": "error",
     "traceback": [
      "\u001b[0;36m  Cell \u001b[0;32mIn[7], line 3\u001b[0;36m\u001b[0m\n\u001b[0;31m    ggplot() +\u001b[0m\n\u001b[0m              ^\u001b[0m\n\u001b[0;31mSyntaxError\u001b[0m\u001b[0;31m:\u001b[0m invalid syntax\n"
     ]
    }
   ],
   "source": [
    "library(ggplot2)\n",
    "\n",
    "ggplot() +\n",
    "  geom_point(data = df, aes(x = x, y = y), color = \"blue\", size = 3) +\n",
    "  geom_point(data = df_proj, aes(x = x, y = y), color = \"red\", size = 3) +\n",
    "  geom_segment(aes(x = df$x, y = df$y, xend = df_proj$x, yend = df_proj$y),\n",
    "               color = \"gray\", linetype = \"dashed\") +\n",
    "  geom_line(data = pc_line, aes(x = x, y = y), color = \"darkgreen\", linewidth = 1) +\n",
    "  ggtitle(\"PCA: First Principal Component and Projections\") +\n",
    "  theme_minimal()\n",
    "\n"
   ]
  },
  {
   "cell_type": "code",
   "execution_count": null,
   "id": "6204b54c-7dc4-4c4f-ba78-23c5586fb218",
   "metadata": {},
   "outputs": [],
   "source": []
  }
 ],
 "metadata": {
  "kernelspec": {
   "display_name": "Python 3 (ipykernel)",
   "language": "python",
   "name": "python3"
  },
  "language_info": {
   "codemirror_mode": {
    "name": "ipython",
    "version": 3
   },
   "file_extension": ".py",
   "mimetype": "text/x-python",
   "name": "python",
   "nbconvert_exporter": "python",
   "pygments_lexer": "ipython3",
   "version": "3.12.2"
  }
 },
 "nbformat": 4,
 "nbformat_minor": 5
}
